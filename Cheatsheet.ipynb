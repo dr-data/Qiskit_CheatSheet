{
  "nbformat": 4,
  "nbformat_minor": 0,
  "metadata": {
    "colab": {
      "name": "Cheatsheet",
      "provenance": [],
      "collapsed_sections": [
        "8D8GjBmN0y2w",
        "n6MCZ8gU11I1"
      ]
    },
    "kernelspec": {
      "name": "python3",
      "display_name": "Python 3"
    }
  },
  "cells": [
    {
      "cell_type": "markdown",
      "metadata": {
        "id": "TFWmAajQxmls",
        "colab_type": "text"
      },
      "source": [
        "#Install dependencies (Qiskit)"
      ]
    },
    {
      "cell_type": "code",
      "metadata": {
        "id": "CIEs2grPxgRz",
        "colab_type": "code",
        "colab": {
          "base_uri": "https://localhost:8080/",
          "height": 1000
        },
        "outputId": "e1c91062-2f5c-457c-86dd-0f96192faf2e"
      },
      "source": [
        "# install dependencies (Qiskit)\n",
        "!pip install --upgrade qiskit==0.19.6 \n",
        "!pip install --upgrade metakernel\n",
        "!pip install --upgrade portalocker\n",
        "!pip install --upgrade matplotlib\n",
        "!pip install git+https://github.com/qiskit-community/qiskit-textbook.git#subdirectory=qiskit-textbook-src"
      ],
      "execution_count": null,
      "outputs": [
        {
          "output_type": "stream",
          "text": [
            "Requirement already up-to-date: qiskit==0.19.6 in /usr/local/lib/python3.6/dist-packages (0.19.6)\n",
            "Requirement already satisfied, skipping upgrade: qiskit-ibmq-provider==0.7.2 in /usr/local/lib/python3.6/dist-packages (from qiskit==0.19.6) (0.7.2)\n",
            "Requirement already satisfied, skipping upgrade: qiskit-aer==0.5.2 in /usr/local/lib/python3.6/dist-packages (from qiskit==0.19.6) (0.5.2)\n",
            "Requirement already satisfied, skipping upgrade: qiskit-terra==0.14.2 in /usr/local/lib/python3.6/dist-packages (from qiskit==0.19.6) (0.14.2)\n",
            "Requirement already satisfied, skipping upgrade: qiskit-ignis==0.3.3 in /usr/local/lib/python3.6/dist-packages (from qiskit==0.19.6) (0.3.3)\n",
            "Requirement already satisfied, skipping upgrade: qiskit-aqua==0.7.3 in /usr/local/lib/python3.6/dist-packages (from qiskit==0.19.6) (0.7.3)\n",
            "Requirement already satisfied, skipping upgrade: requests>=2.19 in /usr/local/lib/python3.6/dist-packages (from qiskit-ibmq-provider==0.7.2->qiskit==0.19.6) (2.23.0)\n",
            "Requirement already satisfied, skipping upgrade: numpy>=1.13 in /usr/local/lib/python3.6/dist-packages (from qiskit-ibmq-provider==0.7.2->qiskit==0.19.6) (1.18.5)\n",
            "Requirement already satisfied, skipping upgrade: python-dateutil>=2.8.0 in /usr/local/lib/python3.6/dist-packages (from qiskit-ibmq-provider==0.7.2->qiskit==0.19.6) (2.8.1)\n",
            "Requirement already satisfied, skipping upgrade: nest-asyncio!=1.1.0,>=1.0.0 in /usr/local/lib/python3.6/dist-packages (from qiskit-ibmq-provider==0.7.2->qiskit==0.19.6) (1.4.0)\n",
            "Requirement already satisfied, skipping upgrade: requests-ntlm>=1.1.0 in /usr/local/lib/python3.6/dist-packages (from qiskit-ibmq-provider==0.7.2->qiskit==0.19.6) (1.1.0)\n",
            "Requirement already satisfied, skipping upgrade: urllib3>=1.21.1 in /usr/local/lib/python3.6/dist-packages (from qiskit-ibmq-provider==0.7.2->qiskit==0.19.6) (1.24.3)\n",
            "Requirement already satisfied, skipping upgrade: websockets<8,>=7 in /usr/local/lib/python3.6/dist-packages (from qiskit-ibmq-provider==0.7.2->qiskit==0.19.6) (7.0)\n",
            "Requirement already satisfied, skipping upgrade: pybind11>=2.4 in /usr/local/lib/python3.6/dist-packages (from qiskit-aer==0.5.2->qiskit==0.19.6) (2.5.0)\n",
            "Requirement already satisfied, skipping upgrade: cython>=0.27.1 in /usr/local/lib/python3.6/dist-packages (from qiskit-aer==0.5.2->qiskit==0.19.6) (0.29.21)\n",
            "Requirement already satisfied, skipping upgrade: scipy>=1.0; python_version > \"3.5\" in /usr/local/lib/python3.6/dist-packages (from qiskit-aer==0.5.2->qiskit==0.19.6) (1.4.1)\n",
            "Requirement already satisfied, skipping upgrade: dill>=0.3 in /usr/local/lib/python3.6/dist-packages (from qiskit-terra==0.14.2->qiskit==0.19.6) (0.3.2)\n",
            "Requirement already satisfied, skipping upgrade: fastjsonschema>=2.10 in /usr/local/lib/python3.6/dist-packages (from qiskit-terra==0.14.2->qiskit==0.19.6) (2.14.4)\n",
            "Requirement already satisfied, skipping upgrade: marshmallow<4,>=3 in /usr/local/lib/python3.6/dist-packages (from qiskit-terra==0.14.2->qiskit==0.19.6) (3.7.1)\n",
            "Requirement already satisfied, skipping upgrade: retworkx>=0.3.2 in /usr/local/lib/python3.6/dist-packages (from qiskit-terra==0.14.2->qiskit==0.19.6) (0.4.0)\n",
            "Requirement already satisfied, skipping upgrade: jsonschema>=2.6 in /usr/local/lib/python3.6/dist-packages (from qiskit-terra==0.14.2->qiskit==0.19.6) (2.6.0)\n",
            "Requirement already satisfied, skipping upgrade: python-constraint>=1.4 in /usr/local/lib/python3.6/dist-packages (from qiskit-terra==0.14.2->qiskit==0.19.6) (1.4.0)\n",
            "Requirement already satisfied, skipping upgrade: networkx>=2.2; python_version > \"3.5\" in /usr/local/lib/python3.6/dist-packages (from qiskit-terra==0.14.2->qiskit==0.19.6) (2.4)\n",
            "Requirement already satisfied, skipping upgrade: marshmallow-polyfield<6,>=5.7 in /usr/local/lib/python3.6/dist-packages (from qiskit-terra==0.14.2->qiskit==0.19.6) (5.9)\n",
            "Requirement already satisfied, skipping upgrade: psutil>=5 in /usr/local/lib/python3.6/dist-packages (from qiskit-terra==0.14.2->qiskit==0.19.6) (5.4.8)\n",
            "Requirement already satisfied, skipping upgrade: ply>=3.10 in /usr/local/lib/python3.6/dist-packages (from qiskit-terra==0.14.2->qiskit==0.19.6) (3.11)\n",
            "Requirement already satisfied, skipping upgrade: sympy>=1.3 in /usr/local/lib/python3.6/dist-packages (from qiskit-terra==0.14.2->qiskit==0.19.6) (1.6.2)\n",
            "Requirement already satisfied, skipping upgrade: scikit-learn>=0.17 in /usr/local/lib/python3.6/dist-packages (from qiskit-ignis==0.3.3->qiskit==0.19.6) (0.22.2.post1)\n",
            "Requirement already satisfied, skipping upgrade: setuptools>=40.1.0 in /usr/local/lib/python3.6/dist-packages (from qiskit-ignis==0.3.3->qiskit==0.19.6) (49.2.0)\n",
            "Requirement already satisfied, skipping upgrade: h5py in /usr/local/lib/python3.6/dist-packages (from qiskit-aqua==0.7.3->qiskit==0.19.6) (2.10.0)\n",
            "Requirement already satisfied, skipping upgrade: fastdtw in /usr/local/lib/python3.6/dist-packages (from qiskit-aqua==0.7.3->qiskit==0.19.6) (0.3.4)\n",
            "Requirement already satisfied, skipping upgrade: dlx in /usr/local/lib/python3.6/dist-packages (from qiskit-aqua==0.7.3->qiskit==0.19.6) (1.0.4)\n",
            "Requirement already satisfied, skipping upgrade: docplex in /usr/local/lib/python3.6/dist-packages (from qiskit-aqua==0.7.3->qiskit==0.19.6) (2.15.194)\n",
            "Requirement already satisfied, skipping upgrade: pyscf; sys_platform != \"win32\" in /usr/local/lib/python3.6/dist-packages (from qiskit-aqua==0.7.3->qiskit==0.19.6) (1.7.4)\n",
            "Requirement already satisfied, skipping upgrade: quandl in /usr/local/lib/python3.6/dist-packages (from qiskit-aqua==0.7.3->qiskit==0.19.6) (3.5.2)\n",
            "Requirement already satisfied, skipping upgrade: certifi>=2017.4.17 in /usr/local/lib/python3.6/dist-packages (from requests>=2.19->qiskit-ibmq-provider==0.7.2->qiskit==0.19.6) (2020.6.20)\n",
            "Requirement already satisfied, skipping upgrade: chardet<4,>=3.0.2 in /usr/local/lib/python3.6/dist-packages (from requests>=2.19->qiskit-ibmq-provider==0.7.2->qiskit==0.19.6) (3.0.4)\n",
            "Requirement already satisfied, skipping upgrade: idna<3,>=2.5 in /usr/local/lib/python3.6/dist-packages (from requests>=2.19->qiskit-ibmq-provider==0.7.2->qiskit==0.19.6) (2.10)\n",
            "Requirement already satisfied, skipping upgrade: six>=1.5 in /usr/local/lib/python3.6/dist-packages (from python-dateutil>=2.8.0->qiskit-ibmq-provider==0.7.2->qiskit==0.19.6) (1.15.0)\n",
            "Requirement already satisfied, skipping upgrade: ntlm-auth>=1.0.2 in /usr/local/lib/python3.6/dist-packages (from requests-ntlm>=1.1.0->qiskit-ibmq-provider==0.7.2->qiskit==0.19.6) (1.5.0)\n",
            "Requirement already satisfied, skipping upgrade: cryptography>=1.3 in /usr/local/lib/python3.6/dist-packages (from requests-ntlm>=1.1.0->qiskit-ibmq-provider==0.7.2->qiskit==0.19.6) (3.0)\n",
            "Requirement already satisfied, skipping upgrade: decorator>=4.3.0 in /usr/local/lib/python3.6/dist-packages (from networkx>=2.2; python_version > \"3.5\"->qiskit-terra==0.14.2->qiskit==0.19.6) (4.4.2)\n",
            "Requirement already satisfied, skipping upgrade: mpmath>=0.19 in /usr/local/lib/python3.6/dist-packages (from sympy>=1.3->qiskit-terra==0.14.2->qiskit==0.19.6) (1.1.0)\n",
            "Requirement already satisfied, skipping upgrade: joblib>=0.11 in /usr/local/lib/python3.6/dist-packages (from scikit-learn>=0.17->qiskit-ignis==0.3.3->qiskit==0.19.6) (0.16.0)\n",
            "Requirement already satisfied, skipping upgrade: inflection>=0.3.1 in /usr/local/lib/python3.6/dist-packages (from quandl->qiskit-aqua==0.7.3->qiskit==0.19.6) (0.5.0)\n",
            "Requirement already satisfied, skipping upgrade: more-itertools in /usr/local/lib/python3.6/dist-packages (from quandl->qiskit-aqua==0.7.3->qiskit==0.19.6) (8.4.0)\n",
            "Requirement already satisfied, skipping upgrade: pandas>=0.14 in /usr/local/lib/python3.6/dist-packages (from quandl->qiskit-aqua==0.7.3->qiskit==0.19.6) (1.0.5)\n",
            "Requirement already satisfied, skipping upgrade: cffi!=1.11.3,>=1.8 in /usr/local/lib/python3.6/dist-packages (from cryptography>=1.3->requests-ntlm>=1.1.0->qiskit-ibmq-provider==0.7.2->qiskit==0.19.6) (1.14.1)\n",
            "Requirement already satisfied, skipping upgrade: pytz>=2017.2 in /usr/local/lib/python3.6/dist-packages (from pandas>=0.14->quandl->qiskit-aqua==0.7.3->qiskit==0.19.6) (2018.9)\n",
            "Requirement already satisfied, skipping upgrade: pycparser in /usr/local/lib/python3.6/dist-packages (from cffi!=1.11.3,>=1.8->cryptography>=1.3->requests-ntlm>=1.1.0->qiskit-ibmq-provider==0.7.2->qiskit==0.19.6) (2.20)\n",
            "Requirement already up-to-date: metakernel in /usr/local/lib/python3.6/dist-packages (0.24.4)\n",
            "Requirement already satisfied, skipping upgrade: pexpect>=4.2 in /usr/local/lib/python3.6/dist-packages (from metakernel) (4.8.0)\n",
            "Requirement already satisfied, skipping upgrade: ipykernel in /usr/local/lib/python3.6/dist-packages (from metakernel) (4.10.1)\n",
            "Requirement already satisfied, skipping upgrade: ptyprocess>=0.5 in /usr/local/lib/python3.6/dist-packages (from pexpect>=4.2->metakernel) (0.6.0)\n",
            "Requirement already satisfied, skipping upgrade: ipython>=4.0.0 in /usr/local/lib/python3.6/dist-packages (from ipykernel->metakernel) (5.5.0)\n",
            "Requirement already satisfied, skipping upgrade: jupyter-client in /usr/local/lib/python3.6/dist-packages (from ipykernel->metakernel) (5.3.5)\n",
            "Requirement already satisfied, skipping upgrade: tornado>=4.0 in /usr/local/lib/python3.6/dist-packages (from ipykernel->metakernel) (5.1.1)\n",
            "Requirement already satisfied, skipping upgrade: traitlets>=4.1.0 in /usr/local/lib/python3.6/dist-packages (from ipykernel->metakernel) (4.3.3)\n",
            "Requirement already satisfied, skipping upgrade: prompt-toolkit<2.0.0,>=1.0.4 in /usr/local/lib/python3.6/dist-packages (from ipython>=4.0.0->ipykernel->metakernel) (1.0.18)\n",
            "Requirement already satisfied, skipping upgrade: decorator in /usr/local/lib/python3.6/dist-packages (from ipython>=4.0.0->ipykernel->metakernel) (4.4.2)\n",
            "Requirement already satisfied, skipping upgrade: setuptools>=18.5 in /usr/local/lib/python3.6/dist-packages (from ipython>=4.0.0->ipykernel->metakernel) (49.2.0)\n",
            "Requirement already satisfied, skipping upgrade: pickleshare in /usr/local/lib/python3.6/dist-packages (from ipython>=4.0.0->ipykernel->metakernel) (0.7.5)\n",
            "Requirement already satisfied, skipping upgrade: simplegeneric>0.8 in /usr/local/lib/python3.6/dist-packages (from ipython>=4.0.0->ipykernel->metakernel) (0.8.1)\n",
            "Requirement already satisfied, skipping upgrade: pygments in /usr/local/lib/python3.6/dist-packages (from ipython>=4.0.0->ipykernel->metakernel) (2.1.3)\n",
            "Requirement already satisfied, skipping upgrade: pyzmq>=13 in /usr/local/lib/python3.6/dist-packages (from jupyter-client->ipykernel->metakernel) (19.0.2)\n",
            "Requirement already satisfied, skipping upgrade: jupyter-core>=4.6.0 in /usr/local/lib/python3.6/dist-packages (from jupyter-client->ipykernel->metakernel) (4.6.3)\n",
            "Requirement already satisfied, skipping upgrade: python-dateutil>=2.1 in /usr/local/lib/python3.6/dist-packages (from jupyter-client->ipykernel->metakernel) (2.8.1)\n",
            "Requirement already satisfied, skipping upgrade: ipython-genutils in /usr/local/lib/python3.6/dist-packages (from traitlets>=4.1.0->ipykernel->metakernel) (0.2.0)\n",
            "Requirement already satisfied, skipping upgrade: six in /usr/local/lib/python3.6/dist-packages (from traitlets>=4.1.0->ipykernel->metakernel) (1.15.0)\n",
            "Requirement already satisfied, skipping upgrade: wcwidth in /usr/local/lib/python3.6/dist-packages (from prompt-toolkit<2.0.0,>=1.0.4->ipython>=4.0.0->ipykernel->metakernel) (0.2.5)\n",
            "Requirement already up-to-date: portalocker in /usr/local/lib/python3.6/dist-packages (2.0.0)\n",
            "Requirement already up-to-date: matplotlib in /usr/local/lib/python3.6/dist-packages (3.3.1)\n",
            "Requirement already satisfied, skipping upgrade: certifi>=2020.06.20 in /usr/local/lib/python3.6/dist-packages (from matplotlib) (2020.6.20)\n",
            "Requirement already satisfied, skipping upgrade: pillow>=6.2.0 in /usr/local/lib/python3.6/dist-packages (from matplotlib) (7.0.0)\n",
            "Requirement already satisfied, skipping upgrade: cycler>=0.10 in /usr/local/lib/python3.6/dist-packages (from matplotlib) (0.10.0)\n",
            "Requirement already satisfied, skipping upgrade: python-dateutil>=2.1 in /usr/local/lib/python3.6/dist-packages (from matplotlib) (2.8.1)\n",
            "Requirement already satisfied, skipping upgrade: pyparsing!=2.0.4,!=2.1.2,!=2.1.6,>=2.0.3 in /usr/local/lib/python3.6/dist-packages (from matplotlib) (2.4.7)\n",
            "Requirement already satisfied, skipping upgrade: numpy>=1.15 in /usr/local/lib/python3.6/dist-packages (from matplotlib) (1.18.5)\n",
            "Requirement already satisfied, skipping upgrade: kiwisolver>=1.0.1 in /usr/local/lib/python3.6/dist-packages (from matplotlib) (1.2.0)\n",
            "Requirement already satisfied, skipping upgrade: six in /usr/local/lib/python3.6/dist-packages (from cycler>=0.10->matplotlib) (1.15.0)\n",
            "Collecting git+https://github.com/qiskit-community/qiskit-textbook.git#subdirectory=qiskit-textbook-src\n",
            "  Cloning https://github.com/qiskit-community/qiskit-textbook.git to /tmp/pip-req-build-v11l3b5p\n",
            "  Running command git clone -q https://github.com/qiskit-community/qiskit-textbook.git /tmp/pip-req-build-v11l3b5p\n",
            "Requirement already satisfied: qiskit in /usr/local/lib/python3.6/dist-packages (from qiskit-textbook==0.1.0) (0.19.6)\n",
            "Requirement already satisfied: ipython in /usr/local/lib/python3.6/dist-packages (from qiskit-textbook==0.1.0) (5.5.0)\n",
            "Requirement already satisfied: ipywidgets in /usr/local/lib/python3.6/dist-packages (from qiskit-textbook==0.1.0) (7.5.1)\n",
            "Requirement already satisfied: numpy in /usr/local/lib/python3.6/dist-packages (from qiskit-textbook==0.1.0) (1.18.5)\n",
            "Requirement already satisfied: matplotlib in /usr/local/lib/python3.6/dist-packages (from qiskit-textbook==0.1.0) (3.3.1)\n",
            "Requirement already satisfied: qiskit-aer==0.5.2 in /usr/local/lib/python3.6/dist-packages (from qiskit->qiskit-textbook==0.1.0) (0.5.2)\n",
            "Requirement already satisfied: qiskit-terra==0.14.2 in /usr/local/lib/python3.6/dist-packages (from qiskit->qiskit-textbook==0.1.0) (0.14.2)\n",
            "Requirement already satisfied: qiskit-aqua==0.7.3 in /usr/local/lib/python3.6/dist-packages (from qiskit->qiskit-textbook==0.1.0) (0.7.3)\n",
            "Requirement already satisfied: qiskit-ignis==0.3.3 in /usr/local/lib/python3.6/dist-packages (from qiskit->qiskit-textbook==0.1.0) (0.3.3)\n",
            "Requirement already satisfied: qiskit-ibmq-provider==0.7.2 in /usr/local/lib/python3.6/dist-packages (from qiskit->qiskit-textbook==0.1.0) (0.7.2)\n",
            "Requirement already satisfied: pickleshare in /usr/local/lib/python3.6/dist-packages (from ipython->qiskit-textbook==0.1.0) (0.7.5)\n",
            "Requirement already satisfied: simplegeneric>0.8 in /usr/local/lib/python3.6/dist-packages (from ipython->qiskit-textbook==0.1.0) (0.8.1)\n",
            "Requirement already satisfied: traitlets>=4.2 in /usr/local/lib/python3.6/dist-packages (from ipython->qiskit-textbook==0.1.0) (4.3.3)\n",
            "Requirement already satisfied: prompt-toolkit<2.0.0,>=1.0.4 in /usr/local/lib/python3.6/dist-packages (from ipython->qiskit-textbook==0.1.0) (1.0.18)\n",
            "Requirement already satisfied: pexpect; sys_platform != \"win32\" in /usr/local/lib/python3.6/dist-packages (from ipython->qiskit-textbook==0.1.0) (4.8.0)\n",
            "Requirement already satisfied: pygments in /usr/local/lib/python3.6/dist-packages (from ipython->qiskit-textbook==0.1.0) (2.1.3)\n",
            "Requirement already satisfied: setuptools>=18.5 in /usr/local/lib/python3.6/dist-packages (from ipython->qiskit-textbook==0.1.0) (49.2.0)\n",
            "Requirement already satisfied: decorator in /usr/local/lib/python3.6/dist-packages (from ipython->qiskit-textbook==0.1.0) (4.4.2)\n",
            "Requirement already satisfied: widgetsnbextension~=3.5.0 in /usr/local/lib/python3.6/dist-packages (from ipywidgets->qiskit-textbook==0.1.0) (3.5.1)\n",
            "Requirement already satisfied: ipykernel>=4.5.1 in /usr/local/lib/python3.6/dist-packages (from ipywidgets->qiskit-textbook==0.1.0) (4.10.1)\n",
            "Requirement already satisfied: nbformat>=4.2.0 in /usr/local/lib/python3.6/dist-packages (from ipywidgets->qiskit-textbook==0.1.0) (5.0.7)\n",
            "Requirement already satisfied: python-dateutil>=2.1 in /usr/local/lib/python3.6/dist-packages (from matplotlib->qiskit-textbook==0.1.0) (2.8.1)\n",
            "Requirement already satisfied: kiwisolver>=1.0.1 in /usr/local/lib/python3.6/dist-packages (from matplotlib->qiskit-textbook==0.1.0) (1.2.0)\n",
            "Requirement already satisfied: pyparsing!=2.0.4,!=2.1.2,!=2.1.6,>=2.0.3 in /usr/local/lib/python3.6/dist-packages (from matplotlib->qiskit-textbook==0.1.0) (2.4.7)\n",
            "Requirement already satisfied: cycler>=0.10 in /usr/local/lib/python3.6/dist-packages (from matplotlib->qiskit-textbook==0.1.0) (0.10.0)\n",
            "Requirement already satisfied: pillow>=6.2.0 in /usr/local/lib/python3.6/dist-packages (from matplotlib->qiskit-textbook==0.1.0) (7.0.0)\n",
            "Requirement already satisfied: certifi>=2020.06.20 in /usr/local/lib/python3.6/dist-packages (from matplotlib->qiskit-textbook==0.1.0) (2020.6.20)\n",
            "Requirement already satisfied: pybind11>=2.4 in /usr/local/lib/python3.6/dist-packages (from qiskit-aer==0.5.2->qiskit->qiskit-textbook==0.1.0) (2.5.0)\n",
            "Requirement already satisfied: scipy>=1.0; python_version > \"3.5\" in /usr/local/lib/python3.6/dist-packages (from qiskit-aer==0.5.2->qiskit->qiskit-textbook==0.1.0) (1.4.1)\n",
            "Requirement already satisfied: cython>=0.27.1 in /usr/local/lib/python3.6/dist-packages (from qiskit-aer==0.5.2->qiskit->qiskit-textbook==0.1.0) (0.29.21)\n",
            "Requirement already satisfied: sympy>=1.3 in /usr/local/lib/python3.6/dist-packages (from qiskit-terra==0.14.2->qiskit->qiskit-textbook==0.1.0) (1.6.2)\n",
            "Requirement already satisfied: dill>=0.3 in /usr/local/lib/python3.6/dist-packages (from qiskit-terra==0.14.2->qiskit->qiskit-textbook==0.1.0) (0.3.2)\n",
            "Requirement already satisfied: jsonschema>=2.6 in /usr/local/lib/python3.6/dist-packages (from qiskit-terra==0.14.2->qiskit->qiskit-textbook==0.1.0) (2.6.0)\n",
            "Requirement already satisfied: python-constraint>=1.4 in /usr/local/lib/python3.6/dist-packages (from qiskit-terra==0.14.2->qiskit->qiskit-textbook==0.1.0) (1.4.0)\n",
            "Requirement already satisfied: psutil>=5 in /usr/local/lib/python3.6/dist-packages (from qiskit-terra==0.14.2->qiskit->qiskit-textbook==0.1.0) (5.4.8)\n",
            "Requirement already satisfied: fastjsonschema>=2.10 in /usr/local/lib/python3.6/dist-packages (from qiskit-terra==0.14.2->qiskit->qiskit-textbook==0.1.0) (2.14.4)\n",
            "Requirement already satisfied: retworkx>=0.3.2 in /usr/local/lib/python3.6/dist-packages (from qiskit-terra==0.14.2->qiskit->qiskit-textbook==0.1.0) (0.4.0)\n",
            "Requirement already satisfied: networkx>=2.2; python_version > \"3.5\" in /usr/local/lib/python3.6/dist-packages (from qiskit-terra==0.14.2->qiskit->qiskit-textbook==0.1.0) (2.4)\n",
            "Requirement already satisfied: marshmallow-polyfield<6,>=5.7 in /usr/local/lib/python3.6/dist-packages (from qiskit-terra==0.14.2->qiskit->qiskit-textbook==0.1.0) (5.9)\n",
            "Requirement already satisfied: ply>=3.10 in /usr/local/lib/python3.6/dist-packages (from qiskit-terra==0.14.2->qiskit->qiskit-textbook==0.1.0) (3.11)\n",
            "Requirement already satisfied: marshmallow<4,>=3 in /usr/local/lib/python3.6/dist-packages (from qiskit-terra==0.14.2->qiskit->qiskit-textbook==0.1.0) (3.7.1)\n",
            "Requirement already satisfied: dlx in /usr/local/lib/python3.6/dist-packages (from qiskit-aqua==0.7.3->qiskit->qiskit-textbook==0.1.0) (1.0.4)\n",
            "Requirement already satisfied: fastdtw in /usr/local/lib/python3.6/dist-packages (from qiskit-aqua==0.7.3->qiskit->qiskit-textbook==0.1.0) (0.3.4)\n",
            "Requirement already satisfied: pyscf; sys_platform != \"win32\" in /usr/local/lib/python3.6/dist-packages (from qiskit-aqua==0.7.3->qiskit->qiskit-textbook==0.1.0) (1.7.4)\n",
            "Requirement already satisfied: h5py in /usr/local/lib/python3.6/dist-packages (from qiskit-aqua==0.7.3->qiskit->qiskit-textbook==0.1.0) (2.10.0)\n",
            "Requirement already satisfied: scikit-learn>=0.20.0 in /usr/local/lib/python3.6/dist-packages (from qiskit-aqua==0.7.3->qiskit->qiskit-textbook==0.1.0) (0.22.2.post1)\n",
            "Requirement already satisfied: quandl in /usr/local/lib/python3.6/dist-packages (from qiskit-aqua==0.7.3->qiskit->qiskit-textbook==0.1.0) (3.5.2)\n",
            "Requirement already satisfied: docplex in /usr/local/lib/python3.6/dist-packages (from qiskit-aqua==0.7.3->qiskit->qiskit-textbook==0.1.0) (2.15.194)\n",
            "Requirement already satisfied: websockets<8,>=7 in /usr/local/lib/python3.6/dist-packages (from qiskit-ibmq-provider==0.7.2->qiskit->qiskit-textbook==0.1.0) (7.0)\n",
            "Requirement already satisfied: urllib3>=1.21.1 in /usr/local/lib/python3.6/dist-packages (from qiskit-ibmq-provider==0.7.2->qiskit->qiskit-textbook==0.1.0) (1.24.3)\n",
            "Requirement already satisfied: requests>=2.19 in /usr/local/lib/python3.6/dist-packages (from qiskit-ibmq-provider==0.7.2->qiskit->qiskit-textbook==0.1.0) (2.23.0)\n",
            "Requirement already satisfied: requests-ntlm>=1.1.0 in /usr/local/lib/python3.6/dist-packages (from qiskit-ibmq-provider==0.7.2->qiskit->qiskit-textbook==0.1.0) (1.1.0)\n",
            "Requirement already satisfied: nest-asyncio!=1.1.0,>=1.0.0 in /usr/local/lib/python3.6/dist-packages (from qiskit-ibmq-provider==0.7.2->qiskit->qiskit-textbook==0.1.0) (1.4.0)\n",
            "Requirement already satisfied: ipython-genutils in /usr/local/lib/python3.6/dist-packages (from traitlets>=4.2->ipython->qiskit-textbook==0.1.0) (0.2.0)\n",
            "Requirement already satisfied: six in /usr/local/lib/python3.6/dist-packages (from traitlets>=4.2->ipython->qiskit-textbook==0.1.0) (1.15.0)\n",
            "Requirement already satisfied: wcwidth in /usr/local/lib/python3.6/dist-packages (from prompt-toolkit<2.0.0,>=1.0.4->ipython->qiskit-textbook==0.1.0) (0.2.5)\n",
            "Requirement already satisfied: ptyprocess>=0.5 in /usr/local/lib/python3.6/dist-packages (from pexpect; sys_platform != \"win32\"->ipython->qiskit-textbook==0.1.0) (0.6.0)\n",
            "Requirement already satisfied: notebook>=4.4.1 in /usr/local/lib/python3.6/dist-packages (from widgetsnbextension~=3.5.0->ipywidgets->qiskit-textbook==0.1.0) (5.3.1)\n",
            "Requirement already satisfied: tornado>=4.0 in /usr/local/lib/python3.6/dist-packages (from ipykernel>=4.5.1->ipywidgets->qiskit-textbook==0.1.0) (5.1.1)\n",
            "Requirement already satisfied: jupyter-client in /usr/local/lib/python3.6/dist-packages (from ipykernel>=4.5.1->ipywidgets->qiskit-textbook==0.1.0) (5.3.5)\n",
            "Requirement already satisfied: jupyter-core in /usr/local/lib/python3.6/dist-packages (from nbformat>=4.2.0->ipywidgets->qiskit-textbook==0.1.0) (4.6.3)\n",
            "Requirement already satisfied: mpmath>=0.19 in /usr/local/lib/python3.6/dist-packages (from sympy>=1.3->qiskit-terra==0.14.2->qiskit->qiskit-textbook==0.1.0) (1.1.0)\n",
            "Requirement already satisfied: joblib>=0.11 in /usr/local/lib/python3.6/dist-packages (from scikit-learn>=0.20.0->qiskit-aqua==0.7.3->qiskit->qiskit-textbook==0.1.0) (0.16.0)\n",
            "Requirement already satisfied: inflection>=0.3.1 in /usr/local/lib/python3.6/dist-packages (from quandl->qiskit-aqua==0.7.3->qiskit->qiskit-textbook==0.1.0) (0.5.0)\n",
            "Requirement already satisfied: pandas>=0.14 in /usr/local/lib/python3.6/dist-packages (from quandl->qiskit-aqua==0.7.3->qiskit->qiskit-textbook==0.1.0) (1.0.5)\n",
            "Requirement already satisfied: more-itertools in /usr/local/lib/python3.6/dist-packages (from quandl->qiskit-aqua==0.7.3->qiskit->qiskit-textbook==0.1.0) (8.4.0)\n",
            "Requirement already satisfied: idna<3,>=2.5 in /usr/local/lib/python3.6/dist-packages (from requests>=2.19->qiskit-ibmq-provider==0.7.2->qiskit->qiskit-textbook==0.1.0) (2.10)\n",
            "Requirement already satisfied: chardet<4,>=3.0.2 in /usr/local/lib/python3.6/dist-packages (from requests>=2.19->qiskit-ibmq-provider==0.7.2->qiskit->qiskit-textbook==0.1.0) (3.0.4)\n",
            "Requirement already satisfied: ntlm-auth>=1.0.2 in /usr/local/lib/python3.6/dist-packages (from requests-ntlm>=1.1.0->qiskit-ibmq-provider==0.7.2->qiskit->qiskit-textbook==0.1.0) (1.5.0)\n",
            "Requirement already satisfied: cryptography>=1.3 in /usr/local/lib/python3.6/dist-packages (from requests-ntlm>=1.1.0->qiskit-ibmq-provider==0.7.2->qiskit->qiskit-textbook==0.1.0) (3.0)\n",
            "Requirement already satisfied: nbconvert in /usr/local/lib/python3.6/dist-packages (from notebook>=4.4.1->widgetsnbextension~=3.5.0->ipywidgets->qiskit-textbook==0.1.0) (5.6.1)\n",
            "Requirement already satisfied: Send2Trash in /usr/local/lib/python3.6/dist-packages (from notebook>=4.4.1->widgetsnbextension~=3.5.0->ipywidgets->qiskit-textbook==0.1.0) (1.5.0)\n",
            "Requirement already satisfied: terminado>=0.8.1 in /usr/local/lib/python3.6/dist-packages (from notebook>=4.4.1->widgetsnbextension~=3.5.0->ipywidgets->qiskit-textbook==0.1.0) (0.8.3)\n",
            "Requirement already satisfied: jinja2 in /usr/local/lib/python3.6/dist-packages (from notebook>=4.4.1->widgetsnbextension~=3.5.0->ipywidgets->qiskit-textbook==0.1.0) (2.11.2)\n",
            "Requirement already satisfied: pyzmq>=13 in /usr/local/lib/python3.6/dist-packages (from jupyter-client->ipykernel>=4.5.1->ipywidgets->qiskit-textbook==0.1.0) (19.0.2)\n",
            "Requirement already satisfied: pytz>=2017.2 in /usr/local/lib/python3.6/dist-packages (from pandas>=0.14->quandl->qiskit-aqua==0.7.3->qiskit->qiskit-textbook==0.1.0) (2018.9)\n",
            "Requirement already satisfied: cffi!=1.11.3,>=1.8 in /usr/local/lib/python3.6/dist-packages (from cryptography>=1.3->requests-ntlm>=1.1.0->qiskit-ibmq-provider==0.7.2->qiskit->qiskit-textbook==0.1.0) (1.14.1)\n",
            "Requirement already satisfied: defusedxml in /usr/local/lib/python3.6/dist-packages (from nbconvert->notebook>=4.4.1->widgetsnbextension~=3.5.0->ipywidgets->qiskit-textbook==0.1.0) (0.6.0)\n",
            "Requirement already satisfied: mistune<2,>=0.8.1 in /usr/local/lib/python3.6/dist-packages (from nbconvert->notebook>=4.4.1->widgetsnbextension~=3.5.0->ipywidgets->qiskit-textbook==0.1.0) (0.8.4)\n",
            "Requirement already satisfied: entrypoints>=0.2.2 in /usr/local/lib/python3.6/dist-packages (from nbconvert->notebook>=4.4.1->widgetsnbextension~=3.5.0->ipywidgets->qiskit-textbook==0.1.0) (0.3)\n",
            "Requirement already satisfied: bleach in /usr/local/lib/python3.6/dist-packages (from nbconvert->notebook>=4.4.1->widgetsnbextension~=3.5.0->ipywidgets->qiskit-textbook==0.1.0) (3.1.5)\n",
            "Requirement already satisfied: pandocfilters>=1.4.1 in /usr/local/lib/python3.6/dist-packages (from nbconvert->notebook>=4.4.1->widgetsnbextension~=3.5.0->ipywidgets->qiskit-textbook==0.1.0) (1.4.2)\n",
            "Requirement already satisfied: testpath in /usr/local/lib/python3.6/dist-packages (from nbconvert->notebook>=4.4.1->widgetsnbextension~=3.5.0->ipywidgets->qiskit-textbook==0.1.0) (0.4.4)\n",
            "Requirement already satisfied: MarkupSafe>=0.23 in /usr/local/lib/python3.6/dist-packages (from jinja2->notebook>=4.4.1->widgetsnbextension~=3.5.0->ipywidgets->qiskit-textbook==0.1.0) (1.1.1)\n",
            "Requirement already satisfied: pycparser in /usr/local/lib/python3.6/dist-packages (from cffi!=1.11.3,>=1.8->cryptography>=1.3->requests-ntlm>=1.1.0->qiskit-ibmq-provider==0.7.2->qiskit->qiskit-textbook==0.1.0) (2.20)\n",
            "Requirement already satisfied: webencodings in /usr/local/lib/python3.6/dist-packages (from bleach->nbconvert->notebook>=4.4.1->widgetsnbextension~=3.5.0->ipywidgets->qiskit-textbook==0.1.0) (0.5.1)\n",
            "Requirement already satisfied: packaging in /usr/local/lib/python3.6/dist-packages (from bleach->nbconvert->notebook>=4.4.1->widgetsnbextension~=3.5.0->ipywidgets->qiskit-textbook==0.1.0) (20.4)\n",
            "Building wheels for collected packages: qiskit-textbook\n",
            "  Building wheel for qiskit-textbook (setup.py) ... \u001b[?25l\u001b[?25hdone\n",
            "  Created wheel for qiskit-textbook: filename=qiskit_textbook-0.1.0-cp36-none-any.whl size=16672 sha256=91226ef6dcb84513a75902c1b5c02760c5a1e7d33ec74aa39fbd1e03042fc31f\n",
            "  Stored in directory: /tmp/pip-ephem-wheel-cache-o72zdjj6/wheels/0c/57/26/1c12886a219af04a38ca1e674fdeeff40b8a5963326ba3c71a\n",
            "Successfully built qiskit-textbook\n",
            "Installing collected packages: qiskit-textbook\n",
            "Successfully installed qiskit-textbook-0.1.0\n"
          ],
          "name": "stdout"
        }
      ]
    },
    {
      "cell_type": "markdown",
      "metadata": {
        "id": "tNHBEu7YxyKF",
        "colab_type": "text"
      },
      "source": [
        "#Import Basic Quantum Circuit\n"
      ]
    },
    {
      "cell_type": "markdown",
      "metadata": {
        "id": "C0fXswfuzqXL",
        "colab_type": "text"
      },
      "source": [
        "# Single Quantum Gate - XGate\n"
      ]
    },
    {
      "cell_type": "code",
      "metadata": {
        "id": "mgBdfC5Mx2_e",
        "colab_type": "code",
        "colab": {
          "base_uri": "https://localhost:8080/",
          "height": 95
        },
        "outputId": "1cbb3c39-9894-401d-e685-bcf5f2a30a57"
      },
      "source": [
        "#XGate\n",
        "\n",
        "#Importing QuantumCircuit from qikit\n",
        "from qiskit import QuantumCircuit\n",
        "\n",
        "#Creating a quantum cicuit with 1 Qubit\n",
        "qc = QuantumCircuit(1)\n",
        "\n",
        "#Creating XGate for q0\n",
        "qc.x(0)\n",
        "\n",
        "#Drawing the quantum circuit\n",
        "qc.draw('mpl')"
      ],
      "execution_count": null,
      "outputs": [
        {
          "output_type": "execute_result",
          "data": {
            "image/png": "[encoded data removed]",
            "text/plain": [
              "<Figure size 173.376x84.28 with 1 Axes>"
            ]
          },
          "metadata": {
            "tags": []
          },
          "execution_count": 1
        }
      ]
    },
    {
      "cell_type": "markdown",
      "metadata": {
        "id": "Vf66cTBnz2eJ",
        "colab_type": "text"
      },
      "source": [
        "# Single Quantum Gate - HGate\n"
      ]
    },
    {
      "cell_type": "code",
      "metadata": {
        "id": "cKY557hKzf9F",
        "colab_type": "code",
        "colab": {
          "base_uri": "https://localhost:8080/"
        },
        "outputId": "41c695ef-c361-4ff5-9b7e-2f33302aa41e"
      },
      "source": [
        "#Importing QuantumCircuit from qikit\n",
        "from qiskit import QuantumCircuit\n",
        "\n",
        "#Creating a quantum cicuit with 1 Qubit\n",
        "qc = QuantumCircuit(1)\n",
        "\n",
        "#Creating XGate for q0\n",
        "qc.h(0)\n",
        "\n",
        "#Drawing the quantum circuit\n",
        "qc.draw('mpl')"
      ],
      "execution_count": null,
      "outputs": [
        {
          "output_type": "execute_result",
          "data": {
            "image/png": "[encoded data removed]",
            "text/plain": [
              "<Figure size 173.376x84.28 with 1 Axes>"
            ]
          },
          "metadata": {
            "tags": []
          },
          "execution_count": 2
        }
      ]
    },
    {
      "cell_type": "markdown",
      "metadata": {
        "id": "gOWtr6xXz7Fd",
        "colab_type": "text"
      },
      "source": [
        "#Combining Two Quantum Gates in 1 Qubit\n"
      ]
    },
    {
      "cell_type": "code",
      "metadata": {
        "id": "LMSWYLP5zlIc",
        "colab_type": "code",
        "colab": {
          "base_uri": "https://localhost:8080/"
        },
        "outputId": "07826c20-4456-4fdf-8d9a-e16274bb1d89"
      },
      "source": [
        "#Importing QuantumCircuit from qikit\n",
        "from qiskit import QuantumCircuit\n",
        "\n",
        "#Creating a quantum cicuit with 1 Qubit\n",
        "qc = QuantumCircuit(1)\n",
        "\n",
        "#Creating XGate for q0\n",
        "qc.x(0)\n",
        "qc.h(0)\n",
        "\n",
        "#Drawing the quantum circuit\n",
        "qc.draw('mpl')"
      ],
      "execution_count": null,
      "outputs": [
        {
          "output_type": "execute_result",
          "data": {
            "text/html": [
              "<pre style=\"word-wrap: normal;white-space: pre;background: #fff0;line-height: 1.1;font-family: &quot;Courier New&quot;,Courier,monospace\">     ┌───┐┌───┐\n",
              "q_0: ┤ X ├┤ H ├\n",
              "     └───┘└───┘</pre>"
            ],
            "text/plain": [
              "     ┌───┐┌───┐\n",
              "q_0: ┤ X ├┤ H ├\n",
              "     └───┘└───┘"
            ]
          },
          "metadata": {
            "tags": []
          },
          "execution_count": 10
        }
      ]
    },
    {
      "cell_type": "markdown",
      "metadata": {
        "id": "BJgFgXNU0AF2",
        "colab_type": "text"
      },
      "source": [
        "# Two or more Quantum Gates - Bell State\n",
        "# HGate + CNOTx"
      ]
    },
    {
      "cell_type": "code",
      "metadata": {
        "id": "KbhT2kCZyV2f",
        "colab_type": "code",
        "colab": {
          "base_uri": "https://localhost:8080/",
          "height": 152
        },
        "outputId": "77b37757-411d-44a9-8d57-b51c23e8bae8"
      },
      "source": [
        "#Importing QuantumCircuit from qikit\n",
        "from qiskit import QuantumCircuit\n",
        "\n",
        "#Creating a quantum cicuit with 2 Qubits and 2 Classical Bits\n",
        "qc = QuantumCircuit(2,2)\n",
        "\n",
        "#Creating HGate for q0\n",
        "qc.h(0)\n",
        "\n",
        "#Creating CNOTx Gate (Control:q0 and Target: q1)\n",
        "qc.cx(0,1)\n",
        "\n",
        "#Drawing the quantum circuit\n",
        "qc.draw()"
      ],
      "execution_count": null,
      "outputs": [
        {
          "output_type": "execute_result",
          "data": {
            "text/html": [
              "<pre style=\"word-wrap: normal;white-space: pre;background: #fff0;line-height: 1.1;font-family: &quot;Courier New&quot;,Courier,monospace\">     ┌───┐     \n",
              "q_0: ┤ H ├──■──\n",
              "     └───┘┌─┴─┐\n",
              "q_1: ─────┤ X ├\n",
              "          └───┘\n",
              "c_0: ══════════\n",
              "               \n",
              "c_1: ══════════\n",
              "               </pre>"
            ],
            "text/plain": [
              "     ┌───┐     \n",
              "q_0: ┤ H ├──■──\n",
              "     └───┘┌─┴─┐\n",
              "q_1: ─────┤ X ├\n",
              "          └───┘\n",
              "c_0: ══════════\n",
              "               \n",
              "c_1: ══════════\n",
              "               "
            ]
          },
          "metadata": {
            "tags": []
          },
          "execution_count": 6
        }
      ]
    },
    {
      "cell_type": "markdown",
      "metadata": {
        "id": "8D8GjBmN0y2w",
        "colab_type": "text"
      },
      "source": [
        "# XGate Simulator with default initial state, |0> "
      ]
    },
    {
      "cell_type": "code",
      "metadata": {
        "id": "UQDa1AhK02c1",
        "colab_type": "code",
        "colab": {
          "base_uri": "https://localhost:8080/",
          "height": 58
        },
        "outputId": "9214cecc-bd13-4f02-b504-7aa4fc1c991e"
      },
      "source": [
        "#XGate\n",
        "from qiskit import QuantumCircuit, Aer, execute\n",
        "#Nice Latex Arrary\n",
        "from qiskit_textbook.tools import array_to_latex\n",
        "\n",
        "#Creating a quantum cicuit with 1 Qubit\n",
        "qc = QuantumCircuit(1)\n",
        "\n",
        "#Creating XGate for q0\n",
        "qc.x(0)\n",
        "\n",
        "\n",
        "# Let's see the result:\n",
        "backend = Aer.get_backend('statevector_simulator')\n",
        "final_state = execute(qc,backend).result().get_statevector()\n",
        "# Print the statevector neatly:\n",
        "array_to_latex(final_state, pretext=\"\\\\text{Statevector = }\")"
      ],
      "execution_count": null,
      "outputs": [
        {
          "output_type": "display_data",
          "data": {
            "text/latex": "$$\n\\text{Statevector = }\\begin{bmatrix}\n0 \\\\\n1\n\\end{bmatrix}\n$$",
            "text/plain": [
              "<IPython.core.display.Math object>"
            ]
          },
          "metadata": {
            "tags": []
          }
        }
      ]
    },
    {
      "cell_type": "markdown",
      "metadata": {
        "id": "n6MCZ8gU11I1",
        "colab_type": "text"
      },
      "source": [
        "# XGate Simulator with initial state, |1> "
      ]
    },
    {
      "cell_type": "code",
      "metadata": {
        "id": "w3pEAyMO16HS",
        "colab_type": "code",
        "colab": {
          "base_uri": "https://localhost:8080/",
          "height": 58
        },
        "outputId": "24131d4d-2ae6-45bb-c18e-d1cc7fa0d75c"
      },
      "source": [
        "#XGate\n",
        "from qiskit import QuantumCircuit, Aer, execute\n",
        "#Nice Latex Arrary\n",
        "from qiskit_textbook.tools import array_to_latex\n",
        "\n",
        "#Creating a quantum cicuit with 1 Qubit\n",
        "qc = QuantumCircuit(1)\n",
        "\n",
        "# Define initial_state as |1>\n",
        "initial_state = [0,1]\n",
        "\n",
        "# Apply initialisation operation to the 0th qubit\n",
        "qc.initialize(initial_state, 0) \n",
        "\n",
        "#Creating XGate for q0\n",
        "qc.x(0)\n",
        "\n",
        "# Let's see the result:\n",
        "backend = Aer.get_backend('statevector_simulator')\n",
        "final_state = execute(qc,backend).result().get_statevector()\n",
        "# Print the statevector neatly:\n",
        "array_to_latex(final_state, pretext=\"\\\\text{Statevector = }\")"
      ],
      "execution_count": null,
      "outputs": [
        {
          "output_type": "display_data",
          "data": {
            "text/latex": "$$\n\\text{Statevector = }\\begin{bmatrix}\n1 \\\\\n0\n\\end{bmatrix}\n$$",
            "text/plain": [
              "<IPython.core.display.Math object>"
            ]
          },
          "metadata": {
            "tags": []
          }
        }
      ]
    }
  ]
}